{
 "cells": [
  {
   "cell_type": "markdown",
   "metadata": {
    "id": "8pepHJPjISFu"
   },
   "source": [
    "# Neural Network\n",
    "\n",
    "In this assignment you will build an artificial neural network _from scratch_, meaning without modern machine learning packages (e.g. scikit-learn, tensorflow, and pytorch). You should use numpy, and can use other standard python libraries if you like. \n",
    "\n",
    "## Part 1: Neural Network with Stochastic Gradient Descent (4 points)\n",
    "Define a class NeuralNetwork that implements an artificial neural network with a single hidden layer. The hidden layer should use the Rectified Linear Unit (ReLU) non-linear activation function, and the output should have a Softmax activation function. Use the template provided. \n",
    "\n",
    "This first part should implement SGD with a mini-batch size of 1. This is a simplified case of Part 3, which asks you to implement mini-batch gradient descent with a mini-batch size greater than 1. You should start with Part 1 because it is simpler. However, it is fine to turn in just the solution in Part 3 because that is the more general case.\n",
    "\n",
    "The hard part of this is the **train** method, which requires computing lots of gradients. See the [notes on neural networks](https://laulima.hawaii.edu/access/content/group/MAN.XLSIDIN35ps.202230/Notes_6__Introduction_to_Neural_Networks.pdf) on Laulima to see the equations for calculating these analytically. Translating these equations into code is non-trivial. The **backpropagation** algorithm is a dynamic programming algorithm that computes the gradients layer by layer, and can be written very elegantly in terms of matrix manipulations (a couple lines of numpy code).\n",
    "\n",
    "_Reminder: Do NOT copy and paste code from the internet. All code should be written by you._\n",
    "\n",
    "## Part 2: Apply Your Model to Fashion Dataset (3 points)\n",
    "We will test the model on the Fashion MNIST dataset. This is a 10-class classification task designed to be similar to the MNIST digit recognition dataset. The classes are different items of clothing (shoes, shirts, handbags, etc.) instead of digits. Here is an [introduction](https://research.zalando.com/welcome/mission/research-projects/fashion-mnist/) and [github page](https://github.com/zalandoresearch/fashion-mnist).\n",
    "\n",
    "1. Demonstrate overfitting in your network by plotting the training and test set losses vs. epoch. An *epoch* is one iteration through the training set; in SGD this means one weight update for each training example. You can use a smaller dataset so that you overfit faster, but clearly state how many examples are in your train and test sets.\n",
    "2. Optimize the hyperparameters of the neural network. You can try different numbers of neurons and the learning rate. Because the test dataset is fairly large (10k examples), you don't need to split off a separate validation set for this analysis. Report the best performance (validation accuracy) and the best hyperparameters. \n",
    "3. Visualize the 10 test examples with the largest loss.\n",
    "\n",
    "## Part 3: Better and Faster: Mini-Batch SGD (3 points)\n",
    "Implement mini-batch gradient descent in your NeuralNetwork train method. This is much more efficient to update the weights on *batches* of training data, e.g. 100 examples at a time, which serves two purposes: \n",
    "1. Each update is a better, less-noisy estimate of the true gradient\n",
    "2. The matrix multiplications can be parallelized for an almost-linear speedup with multiple cores or a GPU. By default, numpy should automatically use multiple CPUs for matrix multiplications. This requires implementing the forward and backpropagation computations efficiently, using matrix multiplications rather than for loops. \n"
   ]
  },
  {
   "cell_type": "code",
   "execution_count": 1,
   "metadata": {},
   "outputs": [],
   "source": [
    "import numpy as np\n",
    "from scipy.special import xlogy\n",
    "\n",
    "# Define activation functions\n",
    "# I used the normalization trick from class to avoid overflows in softmax\n",
    "softmax = lambda x: np.exp(x-(np.ones(np.shape(x))*x.max(axis=1)[:,np.newaxis])) / np.exp(x-(np.ones(np.shape(x))*x.max(axis=1)[:,np.newaxis])).sum(axis=1)[:,np.newaxis]\n",
    "relU = lambda x: np.maximum(0,x)\n"
   ]
  },
  {
   "cell_type": "markdown",
   "metadata": {},
   "source": [
    "# Part 3: Better and Faster: Mini-Batch SGD"
   ]
  },
  {
   "cell_type": "code",
   "execution_count": 2,
   "metadata": {
    "id": "dhGv9-BtISFz"
   },
   "outputs": [],
   "source": [
    "# Part 1 and Part 3: Defining the neural network.\n",
    "class NeuralNetwork():\n",
    "    \n",
    "    def __init__(self, inputs, hidden, outputs):\n",
    "        \"\"\"\n",
    "        Initialize a simple neural network with a single hidden layer.\n",
    "        This method randomly initializes the parameters of the model,\n",
    "        saving them as private variables.\n",
    "        \n",
    "        Each layer is parameterized by a weight matrix and a bias vector; \n",
    "        a useful trick is store the weights and biases for a layer together,\n",
    "        as a single matrix.\n",
    "        \n",
    "        Args:\n",
    "            inputs: int, input dimension\n",
    "            hidden: int, number of hidden neurons\n",
    "            outputs: int, number of output neurons\n",
    "        Returns:\n",
    "            None\n",
    "        \"\"\"\n",
    "        \n",
    "        # Initialize the weights and biases of the neural network as\n",
    "        # private variables. Store a weight matrix for each layer.\n",
    "        \n",
    "        # W is the weights connecting the inputs to the hidden layer\n",
    "        # Initialized from random unifrom distribution from -1 to 1\n",
    "        self.W = 2*np.random.rand(inputs+1, hidden)-1 # inputs +1 for the bias\n",
    "        \n",
    "        # V is the weights connecting the hidden layer to the outputs\n",
    "        # Initialized from random uniform distribution from -1 to 1\n",
    "        self.V = 2*np.random.rand(hidden,outputs)-1\n",
    "        \n",
    "        \n",
    "    def loss(self, y_true, y_pred):\n",
    "        \"\"\"\n",
    "        Compute categorical cross-entropy loss function. \n",
    "        \n",
    "        Sum loss contributions over the outputs (axis=1), but \n",
    "        average over the examples (axis=0)\n",
    "        \n",
    "        Args: \n",
    "            y_true: NxD numpy array with N examples, D outputs (one-hot labels).\n",
    "            y_pred: NxD numpy array with N examples, D outputs (probabilities).\n",
    "        Returns:\n",
    "            loss: array of length N representing loss for each example.\n",
    "        \"\"\"\n",
    "        #Simple implementation of categorical cross-entropy loss function, summing only over outputs\n",
    "        return -1.0*np.sum( xlogy(y_true,y_pred), axis=1 )\n",
    "        \n",
    "    def evaluate(self, X, y):\n",
    "        \"\"\"\n",
    "        Make predictions and compute loss.\n",
    "        Args:\n",
    "            X: NxM numpy array where n-th row is an input.\n",
    "            y: NxD numpy array with N examples and D outputs (one-hot labels).\n",
    "        Returns:\n",
    "            loss: array of length N representing loss for each example.\n",
    "        \"\"\"\n",
    "        # calculate y predictions given X\n",
    "        y_calc = self.predict(X)\n",
    "                \n",
    "        return self.loss(y_true=y, y_pred=y_calc)\n",
    "        \n",
    "    def predict(self, X):\n",
    "        \"\"\"\n",
    "        Make predictions on inputs X.\n",
    "        Args:\n",
    "            X: NxM numpy array where n-th row is an input.\n",
    "        Returns: \n",
    "            y_pred: NxD array where n-th row is vector of probabilities.\n",
    "        \"\"\"        \n",
    "        # Add 1 to the end of each input for bias \n",
    "        X = np.concatenate( ( X, np.ones( (len(X),1) ) ), axis=1 )\n",
    "                \n",
    "        # Calculate the hidden layer\n",
    "        H = relU( np.dot(X,self.W) )\n",
    "                        \n",
    "        # Calculate output\n",
    "        y_pred = softmax( np.dot(H, self.V) )\n",
    "        \n",
    "        return y_pred\n",
    "        \n",
    "    def train(self, X, y, lr=0.0001, max_epochs=10, x_val=None, y_val=None, batch_size=10):\n",
    "        \"\"\"\n",
    "        Train the neural network using stochastic gradient descent.\n",
    "        \n",
    "        Args:\n",
    "            X: NxM numpy array where n-th row is an input.\n",
    "            y: NxD numpy array with N examples and D outputs (one-hot labels).\n",
    "            lr: scalar learning rate. Use small value for debugging.\n",
    "            max_epochs: int, each epoch is one iteration through the train data.\n",
    "            x_val: numpy array containing validation data inputs.\n",
    "            y_val: numpy array containing validation data outputs.\n",
    "        Returns:\n",
    "            history: dict with the following key, value pairs:\n",
    "                     'loss' -> list containing the training loss at each epoch\n",
    "                     'loss_val' -> list for the validation loss at each epoch\n",
    "        \"\"\"\n",
    "        # Lists to store history of loss and loss_val\n",
    "        loss = []\n",
    "        loss_val = []\n",
    "                \n",
    "        for i in range(max_epochs):\n",
    "                                \n",
    "            # Obtain random small batch from training data\n",
    "            indxs = np.random.randint(0,len(X),size=batch_size)\n",
    "            X_rand = np.concatenate( ( X[indxs,:], np.ones( (len(X[indxs,:]),1) ) ), axis=1 ) # add 1 to inputs for bias\n",
    "            y_rand = y[indxs,:]\n",
    "            \n",
    "            # Make prediction on random batch\n",
    "            y_pred = softmax( np.dot( relU( np.dot( X_rand, self.W ) ),self.V ) )\n",
    "            \n",
    "            # Calculate \\partial L \\partial z\n",
    "            dLdz = y_pred-y_rand\n",
    "            \n",
    "            # Compute hidden layer\n",
    "            h = relU(np.dot(X_rand,self.W))\n",
    "            \n",
    "            # Calculate \\partial L \\partial V\n",
    "            dLdV = np.dot(h.T,dLdz)\n",
    "            \n",
    "            # Calculate \\partial L \\partial z_hidden\n",
    "            dLdz_h = np.dot( dLdz, np.transpose( self.V ) )\n",
    "            dLdz_h[h < 0] = 0 # This adds the partial derivative of relU to the chain rule\n",
    "            \n",
    "            # Calculate \\partial L \\partial W\n",
    "            dLdW = np.dot(X_rand.T,dLdz_h)\n",
    "                        \n",
    "            # Update weights \n",
    "            self.W -= lr*dLdW\n",
    "            self.V -= lr*dLdV\n",
    "                                    \n",
    "            # Store Loss history, average over the examples (axis=0)\n",
    "            loss += [ np.mean( self.evaluate(X,y) ) ]\n",
    "            loss_val += [ np.mean( self.evaluate(x_val,y_val) ) ]\n",
    "            \n",
    "        return loss, loss_val\n",
    "                "
   ]
  },
  {
   "cell_type": "code",
   "execution_count": 3,
   "metadata": {
    "colab": {
     "base_uri": "https://localhost:8080/",
     "height": 190
    },
    "id": "TavgVMW1ISF1",
    "outputId": "6984ae25-30ed-4c07-8762-a0b5be2a38f8"
   },
   "outputs": [
    {
     "data": {
      "image/png": "[encoded data removed]",
      "text/plain": [
       "<Figure size 1008x432 with 10 Axes>"
      ]
     },
     "metadata": {},
     "output_type": "display_data"
    }
   ],
   "source": [
    "# Download Fashion MNIST Dataset\n",
    "import gzip\n",
    "import os\n",
    "from urllib.request import urlretrieve\n",
    "import numpy as np\n",
    "import matplotlib.pyplot as plt\n",
    "\n",
    "def fashion_mnist():\n",
    "    \"\"\"\n",
    "    Download compressed Fashion MNIST data to local directory, and \n",
    "    unpack data into numpy arrays. \n",
    "    \n",
    "    Return (train_images, train_labels, test_images, test_labels).\n",
    "\n",
    "    Args:\n",
    "        None\n",
    "\n",
    "    Returns:\n",
    "        Tuple of (train_images, train_labels, test_images, test_labels), each\n",
    "            a matrix. Rows are examples. Columns of images are pixel values.\n",
    "            Columns of labels are a onehot encoding of the correct class.\n",
    "    \"\"\"\n",
    "    url = 'http://fashion-mnist.s3-website.eu-central-1.amazonaws.com/'\n",
    "    files = ['train-images-idx3-ubyte.gz',\n",
    "             'train-labels-idx1-ubyte.gz',\n",
    "             't10k-images-idx3-ubyte.gz',\n",
    "             't10k-labels-idx1-ubyte.gz']\n",
    "    path = './' # Download data to current directory.\n",
    "    os.makedirs(path, exist_ok=True) # Create path if it doesn't exist.\n",
    "\n",
    "    # Download any missing files\n",
    "    for file in files:\n",
    "        if file not in os.listdir(path):\n",
    "            urlretrieve(url + file, os.path.join(path, file))\n",
    "            print(\"Downloaded %s to %s\" % (file, path))\n",
    "\n",
    "    def _images(path):\n",
    "        \"\"\"Return images loaded locally.\"\"\"\n",
    "        with gzip.open(path) as f:\n",
    "            # First 16 bytes are magic_number, n_imgs, n_rows, n_cols\n",
    "            pixels = np.frombuffer(f.read(), 'B', offset=16)\n",
    "        return pixels.reshape(-1, 784).astype('float32') / 255\n",
    "\n",
    "    def _labels(path):\n",
    "        \"\"\"Return labels loaded locally.\"\"\"\n",
    "        with gzip.open(path) as f:\n",
    "            # First 8 bytes are magic_number, n_labels\n",
    "            integer_labels = np.frombuffer(f.read(), 'B', offset=8)\n",
    "\n",
    "        def _onehot(integer_labels):\n",
    "            \"\"\"Return matrix whose rows are onehot encodings of integers.\"\"\"\n",
    "            n_rows = len(integer_labels)\n",
    "            n_cols = integer_labels.max() + 1\n",
    "            onehot = np.zeros((n_rows, n_cols), dtype='uint8')\n",
    "            onehot[np.arange(n_rows), integer_labels] = 1\n",
    "            return onehot\n",
    "\n",
    "        return _onehot(integer_labels)\n",
    "\n",
    "    train_images = _images(os.path.join(path, files[0]))\n",
    "    train_labels = _labels(os.path.join(path, files[1]))\n",
    "    test_images = _images(os.path.join(path, files[2]))\n",
    "    test_labels = _labels(os.path.join(path, files[3]))\n",
    "    \n",
    "    return train_images, train_labels, test_images, test_labels\n",
    "\n",
    "train_images, train_labels, test_images, test_labels = fashion_mnist()\n",
    "\n",
    "# Plot examples from dataset.\n",
    "plt.figure(1, figsize=(14,6))\n",
    "for i in range(10):\n",
    "    plt.subplot(1,10, i+1)\n",
    "    plt.imshow(train_images[i,:].reshape(28,28), cmap='bone')\n",
    "    plt.title(f'Label: {train_labels[i].argmax()}')\n",
    "    plt.xticks([])\n",
    "    plt.yticks([])"
   ]
  },
  {
   "cell_type": "code",
   "execution_count": 4,
   "metadata": {},
   "outputs": [
    {
     "name": "stdout",
     "output_type": "stream",
     "text": [
      "Training shape:  (60000, 784)\n",
      "Testing shape:  (10000, 784)\n"
     ]
    }
   ],
   "source": [
    "# Record how many inputs there are\n",
    "feats = np.shape(train_images)[1]\n",
    "\n",
    "print(\"Training shape: \",np.shape(train_images))\n",
    "print(\"Testing shape: \",np.shape(test_images))"
   ]
  },
  {
   "cell_type": "markdown",
   "metadata": {},
   "source": [
    "# Part 2.1:\n",
    "\n",
    "## Demonstrate overfitting in your network by plotting the training and test set losses vs. epoch. You can use a smaller dataset so that you overfit faster, but clearly state how many examples are in your train and test sets."
   ]
  },
  {
   "cell_type": "code",
   "execution_count": 54,
   "metadata": {},
   "outputs": [
    {
     "name": "stdout",
     "output_type": "stream",
     "text": [
      "Training Neural Network...\n",
      "Training Examples:  500\n",
      "Test Examples:  10000\n"
     ]
    }
   ],
   "source": [
    "# Take smaller sample so that it is easier to overfit\n",
    "small_train_images = train_images[0:500]\n",
    "small_train_labels = train_labels[0:500]\n",
    "\n",
    "# Create the Neural Network object with 100 neurons\n",
    "NN_OF = NeuralNetwork(inputs = feats, hidden = 100, outputs = 10)\n",
    "\n",
    "# Train NN_OF on the small sample of training images and labels\n",
    "print(\"Training Neural Network...\")\n",
    "print(\"Training Examples: \", np.shape(small_train_images)[0])\n",
    "print(\"Test Examples: \", np.shape(test_images)[0])\n",
    "loss_OF, loss_val_OF = NN_OF.train(X=small_train_images, y=small_train_labels, lr=0.001, max_epochs=1000, x_val=test_images, y_val=test_labels,  batch_size =100)\n"
   ]
  },
  {
   "cell_type": "code",
   "execution_count": 55,
   "metadata": {},
   "outputs": [
    {
     "data": {
      "text/plain": [
       "Text(0, 0.5, 'Loss')"
      ]
     },
     "execution_count": 55,
     "metadata": {},
     "output_type": "execute_result"
    },
    {
     "data": {
      "image/png": "[encoded data removed]",
      "text/plain": [
       "<Figure size 432x288 with 1 Axes>"
      ]
     },
     "metadata": {
      "needs_background": "light"
     },
     "output_type": "display_data"
    }
   ],
   "source": [
    "# Plot the Train and Test Loss versus Epoch to demonstrate overfitting in the network\n",
    "plt.plot(np.arange(len(loss_OF)),loss_OF,label=\"Train\")\n",
    "plt.plot(np.arange(len(loss_val_OF)),loss_val_OF,label=\"Test\")\n",
    "plt.legend()\n",
    "plt.xlabel(\"Epoch\")\n",
    "plt.ylabel(\"Loss\")\n"
   ]
  },
  {
   "cell_type": "code",
   "execution_count": 56,
   "metadata": {},
   "outputs": [
    {
     "name": "stdout",
     "output_type": "stream",
     "text": [
      "The Test Loss is increasing while the training loss is decreasing - overfitting.\n"
     ]
    },
    {
     "data": {
      "image/png": "[encoded data removed]",
      "text/plain": [
       "<Figure size 432x288 with 1 Axes>"
      ]
     },
     "metadata": {
      "needs_background": "light"
     },
     "output_type": "display_data"
    }
   ],
   "source": [
    "# Zoom into later end of plot to confirm overfitting\n",
    "plt.plot(np.arange(len(loss_OF[600:1000]))+600,loss_OF[600:1000],label=\"Train\")\n",
    "plt.plot(np.arange(len(loss_val_OF[600:1000]))+600,loss_val_OF[600:1000],label=\"Test\")\n",
    "plt.legend()\n",
    "plt.xlabel(\"Epoch\")\n",
    "plt.ylabel(\"Loss\")\n",
    "\n",
    "print(\"The Test Loss is increasing while the training loss is decreasing - overfitting.\")"
   ]
  },
  {
   "cell_type": "markdown",
   "metadata": {},
   "source": [
    "# Part 2.2\n",
    "\n",
    "## Optimize the hyperparameters of the neural network. You can try different numbers of neurons and the learning rate. Because the test dataset is fairly large (10k examples), you don't need to split off a separate validation set for this analysis. Report the best performance (validation accuracy) and the best hyperparameters."
   ]
  },
  {
   "cell_type": "code",
   "execution_count": 87,
   "metadata": {},
   "outputs": [],
   "source": [
    "# Optimize hyperparameters via gridsearch\n",
    "# The grid is specified here\n",
    "\n",
    "Neurons = np.arange(50,300,50)\n",
    "L_rates = np.arange(0.0005,0.002,0.0005)\n",
    "\n"
   ]
  },
  {
   "cell_type": "code",
   "execution_count": 88,
   "metadata": {},
   "outputs": [
    {
     "name": "stdout",
     "output_type": "stream",
     "text": [
      "Updating Neural Network...\n",
      "Number of Neuronns:  50\n",
      "Learning Rate:  0.0005\n",
      "Updating Neural Network...\n",
      "Number of Neuronns:  50\n",
      "Learning Rate:  0.001\n",
      "Updating Neural Network...\n",
      "Number of Neuronns:  150\n",
      "Learning Rate:  0.0015\n"
     ]
    }
   ],
   "source": [
    "# set a really high value for the current loss\n",
    "L_current = 1E9\n",
    "\n",
    "#Loop through the grid\n",
    "for neuron in Neurons:\n",
    "    for L_rate in L_rates:\n",
    "        \n",
    "        # Initialize a temporary Neural Network\n",
    "        NN_T = NeuralNetwork(inputs = feats, hidden = neuron, outputs = 10)\n",
    "        \n",
    "        # Train the NN, record the losses\n",
    "        loss_T, loss_val_T = NN_T.train(X=train_images, y=train_labels, lr=L_rate, max_epochs=1000, x_val=test_images, y_val=test_labels,  batch_size =100)\n",
    "        \n",
    "        # Check the final loss on the test set\n",
    "        # This method does not do early stopping\n",
    "        # However, in 2.1 we saw that it is very hard to overfit this model when using the full training set\n",
    "        L_T = loss_T[-1]\n",
    "        \n",
    "        # If Loss is lowered, store the neural network info\n",
    "        if L_T < L_current:\n",
    "            \n",
    "            # Store and print best hyperparameters\n",
    "            print(\"Updating Neural Network...\")\n",
    "            print(\"Number of Neuronns: \", neuron)\n",
    "            print(\"Learning Rate: \", L_rate)\n",
    "            neuron_opt = neuron\n",
    "            L_rate_opt = L_rate\n",
    "            \n",
    "            # Store the NN weights\n",
    "            W = NN_T.W\n",
    "            V = NN_T.V\n",
    "            \n",
    "            # Save the Losses\n",
    "            loss = loss_T\n",
    "            loss_val = loss_val_T\n",
    "            \n",
    "            # update L_current\n",
    "            L_current = L_T"
   ]
  },
  {
   "cell_type": "code",
   "execution_count": 89,
   "metadata": {},
   "outputs": [
    {
     "name": "stdout",
     "output_type": "stream",
     "text": [
      "Optimal Number of Neuronns:  150\n",
      "Optimal Learning Rate:  0.0015\n"
     ]
    },
    {
     "data": {
      "text/plain": [
       "Text(0, 0.5, 'Loss')"
      ]
     },
     "execution_count": 89,
     "metadata": {},
     "output_type": "execute_result"
    },
    {
     "data": {
      "image/png": "[encoded data removed]",
      "text/plain": [
       "<Figure size 432x288 with 1 Axes>"
      ]
     },
     "metadata": {
      "needs_background": "light"
     },
     "output_type": "display_data"
    }
   ],
   "source": [
    "#Print best hyperparameters\n",
    "print(\"Optimal Number of Neuronns: \", neuron_opt)\n",
    "print(\"Optimal Learning Rate: \", L_rate_opt)\n",
    "\n",
    "# Plot the losses for the best NN\n",
    "plt.plot(np.arange(len(loss)),loss,label=\"Train\")\n",
    "plt.plot(np.arange(len(loss_val)),loss_val,label=\"Test\")\n",
    "plt.legend()\n",
    "plt.xlabel(\"Epoch\")\n",
    "plt.ylabel(\"Loss\")"
   ]
  },
  {
   "cell_type": "code",
   "execution_count": 90,
   "metadata": {},
   "outputs": [],
   "source": [
    "# Initialize optimized Neural Network\n",
    "NN = NeuralNetwork(inputs = feats, hidden = neuron_opt, outputs = 10)\n",
    "\n",
    "# Give it the appropriate weights\n",
    "NN.V = V\n",
    "NN.W = W"
   ]
  },
  {
   "cell_type": "code",
   "execution_count": 91,
   "metadata": {},
   "outputs": [
    {
     "name": "stdout",
     "output_type": "stream",
     "text": [
      "Model Validation Accuracy:  0.7879\n"
     ]
    }
   ],
   "source": [
    "# Compute validation accuracy\n",
    "Correct = 0\n",
    "for x,y in zip(NN.predict(test_images),test_labels):\n",
    "    # Simple way to check if prediction is right\n",
    "    if np.argmax(x) == np.argmax(y):\n",
    "        Correct += 1\n",
    "        \n",
    "print(\"Model Validation Accuracy: \", 1.0*Correct/len(test_labels))\n"
   ]
  },
  {
   "cell_type": "markdown",
   "metadata": {},
   "source": [
    "# Part 2.3\n",
    "\n",
    "## Visualize the 10 test examples with the largest loss."
   ]
  },
  {
   "cell_type": "code",
   "execution_count": 124,
   "metadata": {},
   "outputs": [
    {
     "data": {
      "image/png": "[encoded data removed]",
      "text/plain": [
       "<Figure size 1008x432 with 10 Axes>"
      ]
     },
     "metadata": {},
     "output_type": "display_data"
    }
   ],
   "source": [
    "# Compute loss for test images\n",
    "test_losses = NN.evaluate(test_images,test_labels)\n",
    "\n",
    "# Sort images and labels with respect to loss\n",
    "sort_ind = test_losses.argsort()\n",
    "sorted_images = test_images[sort_ind]\n",
    "sorted_y = test_labels[sort_ind]\n",
    "\n",
    "# Keep only the images and labels with the top 10 loss\n",
    "top10 = sorted_images[ len(sorted_images)-10 : len(sorted_images) ]\n",
    "top10_y = sorted_y[ len(sorted_y)-10 : len(sorted_y) ]\n",
    "\n",
    "# plot the images\n",
    "# I copied and pasted this from the code provided above\n",
    "plt.figure(1, figsize=(14,6))\n",
    "for i in range(10):\n",
    "    plt.subplot(1,10, i+1)\n",
    "    plt.imshow(top10[i,:].reshape(28,28), cmap='bone')\n",
    "    plt.title(f'Label: {top10_y[i].argmax()}')\n",
    "    plt.xticks([])\n",
    "    plt.yticks([])"
   ]
  },
  {
   "cell_type": "code",
   "execution_count": null,
   "metadata": {},
   "outputs": [],
   "source": []
  }
 ],
 "metadata": {
  "colab": {
   "collapsed_sections": [],
   "name": "HW4_Neural_Network.ipynb",
   "provenance": []
  },
  "kernelspec": {
   "display_name": "Python 3",
   "language": "python",
   "name": "python3"
  },
  "language_info": {
   "codemirror_mode": {
    "name": "ipython",
    "version": 3
   },
   "file_extension": ".py",
   "mimetype": "text/x-python",
   "name": "python",
   "nbconvert_exporter": "python",
   "pygments_lexer": "ipython3",
   "version": "3.7.3"
  }
 },
 "nbformat": 4,
 "nbformat_minor": 1
}
